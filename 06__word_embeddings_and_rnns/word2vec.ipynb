{
 "cells": [
  {
   "cell_type": "code",
   "execution_count": 1,
   "metadata": {},
   "outputs": [],
   "source": [
    "# -*- coding: utf-8 -*-\n",
    "\"\"\"\n",
    "Created on Thu Dec 29 00:39:23 2016\n",
    "\n",
    "@author: tomhope\n",
    "\"\"\"\n",
    "import os\n",
    "import math\n",
    "import numpy as np\n",
    "import tensorflow as tf\n",
    "from tensorflow.contrib.tensorboard.plugins import projector"
   ]
  },
  {
   "cell_type": "code",
   "execution_count": 2,
   "metadata": {},
   "outputs": [],
   "source": [
    "batch_size = 64\n",
    "embedding_dimension = 5\n",
    "negative_samples = 8\n",
    "LOG_DIR = \"./logs/word2vec_intro\"\n",
    "\n",
    "\n",
    "digit_to_word_map = {1: \"One\", 2: \"Two\", 3: \"Three\", 4: \"Four\", 5: \"Five\",\n",
    "                     6: \"Six\", 7: \"Seven\", 8: \"Eight\", 9: \"Nine\"}\n",
    "sentences = []\n",
    "\n",
    "# Create two kinds of sentences - sequences of odd and even digits.\n",
    "for i in range(10000):\n",
    "    rand_odd_ints = np.random.choice(range(1, 10, 2), 3)\n",
    "    sentences.append(\" \".join([digit_to_word_map[r] for r in rand_odd_ints]))\n",
    "    rand_even_ints = np.random.choice(range(2, 10, 2), 3)\n",
    "    sentences.append(\" \".join([digit_to_word_map[r] for r in rand_even_ints]))"
   ]
  },
  {
   "cell_type": "code",
   "execution_count": 4,
   "metadata": {},
   "outputs": [
    {
     "name": "stdout",
     "output_type": "stream",
     "text": [
      "9\n"
     ]
    }
   ],
   "source": [
    "# Map words to indices\n",
    "word2index_map = {}\n",
    "index = 0\n",
    "for sent in sentences:\n",
    "    for word in sent.lower().split():\n",
    "        if word not in word2index_map:\n",
    "            word2index_map[word] = index\n",
    "            index += 1\n",
    "index2word_map = {index: word for word, index in word2index_map.items()}\n",
    "\n",
    "vocabulary_size = len(index2word_map)\n",
    "print(vocabulary_size)"
   ]
  },
  {
   "cell_type": "code",
   "execution_count": 5,
   "metadata": {},
   "outputs": [],
   "source": [
    "# Generate skip-gram pairs\n",
    "skip_gram_pairs = []\n",
    "for sent in sentences:\n",
    "    tokenized_sent = sent.lower().split()\n",
    "    for i in range(1, len(tokenized_sent)-1):\n",
    "        word_context_pair = [[word2index_map[tokenized_sent[i-1]],\n",
    "                              word2index_map[tokenized_sent[i+1]]],\n",
    "                             word2index_map[tokenized_sent[i]]]\n",
    "        skip_gram_pairs.append([word_context_pair[1],\n",
    "                                word_context_pair[0][0]])\n",
    "        skip_gram_pairs.append([word_context_pair[1],\n",
    "                                word_context_pair[0][1]])\n"
   ]
  },
  {
   "cell_type": "code",
   "execution_count": 6,
   "metadata": {},
   "outputs": [],
   "source": [
    "def get_skipgram_batch(batch_size):\n",
    "    instance_indices = list(range(len(skip_gram_pairs)))\n",
    "    np.random.shuffle(instance_indices)\n",
    "    batch = instance_indices[:batch_size]\n",
    "    x = [skip_gram_pairs[i][0] for i in batch]\n",
    "    y = [[skip_gram_pairs[i][1]] for i in batch]\n",
    "    return x, y"
   ]
  },
  {
   "cell_type": "code",
   "execution_count": 10,
   "metadata": {},
   "outputs": [
    {
     "name": "stdout",
     "output_type": "stream",
     "text": [
      "[6, 6, 4, 0, 4, 7, 2, 3]\n",
      "[[3], [7], [7], [8], [7], [6], [0], [6]]\n",
      "['four', 'four', 'two', 'one', 'two', 'six', 'seven', 'eight']\n",
      "['eight', 'six', 'six', 'nine', 'six', 'four', 'one', 'four']\n"
     ]
    }
   ],
   "source": [
    "# batch example\n",
    "x_batch, y_batch = get_skipgram_batch(8)\n",
    "print(x_batch)\n",
    "print(y_batch)\n",
    "print([index2word_map[word] for word in x_batch])\n",
    "print([index2word_map[word[0]] for word in y_batch])"
   ]
  },
  {
   "cell_type": "code",
   "execution_count": 11,
   "metadata": {},
   "outputs": [
    {
     "data": {
      "text/plain": [
       "<tf.Tensor 'NCE_loss_1:0' shape=() dtype=string>"
      ]
     },
     "execution_count": 11,
     "metadata": {},
     "output_type": "execute_result"
    }
   ],
   "source": [
    "# Input data, labels\n",
    "train_inputs = tf.placeholder(tf.int32, shape=[batch_size])\n",
    "train_labels = tf.placeholder(tf.int32, shape=[batch_size, 1])\n",
    "\n",
    "# Embedding lookup table currently only implemented in CPU\n",
    "with tf.name_scope(\"embeddings\"):\n",
    "    embeddings = tf.Variable(\n",
    "        tf.random_uniform([vocabulary_size, embedding_dimension],\n",
    "                          -1.0, 1.0), name='embedding')\n",
    "    # This is essentialy a lookup table\n",
    "    embed = tf.nn.embedding_lookup(embeddings, train_inputs)\n",
    "\n",
    "# Create variables for the NCE loss\n",
    "nce_weights = tf.Variable(\n",
    "        tf.truncated_normal([vocabulary_size, embedding_dimension],\n",
    "                            stddev=1.0 / math.sqrt(embedding_dimension)))\n",
    "nce_biases = tf.Variable(tf.zeros([vocabulary_size]))\n",
    "\n",
    "\n",
    "loss = tf.reduce_mean(\n",
    "  tf.nn.nce_loss(weights=nce_weights, biases=nce_biases, inputs=embed, labels=train_labels,\n",
    "                 num_sampled=negative_samples, num_classes=vocabulary_size))\n",
    "tf.summary.scalar(\"NCE_loss\", loss)\n"
   ]
  },
  {
   "cell_type": "code",
   "execution_count": 12,
   "metadata": {},
   "outputs": [],
   "source": [
    "# Learning rate decay\n",
    "global_step = tf.Variable(0, trainable=False)\n",
    "learningRate = tf.train.exponential_decay(learning_rate=0.1,\n",
    "                                          global_step=global_step,\n",
    "                                          decay_steps=1000,\n",
    "                                          decay_rate=0.95,\n",
    "                                          staircase=True)\n",
    "train_step = tf.train.GradientDescentOptimizer(learningRate).minimize(loss)\n",
    "merged = tf.summary.merge_all()"
   ]
  },
  {
   "cell_type": "code",
   "execution_count": 13,
   "metadata": {},
   "outputs": [
    {
     "name": "stdout",
     "output_type": "stream",
     "text": [
      "Loss at 0: 6.73474\n",
      "Loss at 100: 3.16539\n",
      "Loss at 200: 2.79386\n",
      "Loss at 300: 2.57327\n",
      "Loss at 400: 2.57934\n",
      "Loss at 500: 2.56566\n",
      "Loss at 600: 2.53405\n",
      "Loss at 700: 2.50409\n",
      "Loss at 800: 2.56734\n",
      "Loss at 900: 2.53913\n",
      "WARNING:tensorflow:From <ipython-input-13-63742672dc92>:35: calling reduce_sum (from tensorflow.python.ops.math_ops) with keep_dims is deprecated and will be removed in a future version.\n",
      "Instructions for updating:\n",
      "keep_dims is deprecated, use keepdims instead\n",
      "five\n",
      "0.9584998\n",
      "seven\n",
      "0.7416946\n",
      "nine\n",
      "0.7325346\n",
      "three\n",
      "0.43500283\n",
      "four\n",
      "0.09677239\n",
      "two\n",
      "-0.08134851\n",
      "eight\n",
      "-0.087528855\n",
      "six\n",
      "-0.168046\n"
     ]
    }
   ],
   "source": [
    "with tf.Session() as sess:\n",
    "    train_writer = tf.summary.FileWriter(LOG_DIR,\n",
    "                                         graph=tf.get_default_graph())\n",
    "    saver = tf.train.Saver()\n",
    "\n",
    "    with open(os.path.join(LOG_DIR, 'metadata.tsv'), \"w\") as metadata:\n",
    "        metadata.write('Name\\tClass\\n')\n",
    "        for k, v in index2word_map.items():\n",
    "            metadata.write('%s\\t%d\\n' % (v, k))\n",
    "\n",
    "    config = projector.ProjectorConfig()\n",
    "    embedding = config.embeddings.add()\n",
    "    embedding.tensor_name = embeddings.name\n",
    "    # Link this tensor to its metadata file (e.g. labels).\n",
    "    embedding.metadata_path = os.path.join(LOG_DIR, 'metadata.tsv')\n",
    "    projector.visualize_embeddings(train_writer, config)\n",
    "\n",
    "    tf.global_variables_initializer().run()\n",
    "\n",
    "    for step in range(1000):\n",
    "        x_batch, y_batch = get_skipgram_batch(batch_size)\n",
    "        summary, _ = sess.run([merged, train_step],\n",
    "                              feed_dict={train_inputs: x_batch,\n",
    "                                         train_labels: y_batch})\n",
    "        train_writer.add_summary(summary, step)\n",
    "\n",
    "        if step % 100 == 0:\n",
    "            saver.save(sess, os.path.join(LOG_DIR, \"w2v_model.ckpt\"), step)\n",
    "            loss_value = sess.run(loss,\n",
    "                                  feed_dict={train_inputs: x_batch,\n",
    "                                             train_labels: y_batch})\n",
    "            print(\"Loss at %d: %.5f\" % (step, loss_value))\n",
    "\n",
    "    # Normalize embeddings before using\n",
    "    norm = tf.sqrt(tf.reduce_sum(tf.square(embeddings), 1, keep_dims=True))\n",
    "    normalized_embeddings = embeddings / norm\n",
    "    normalized_embeddings_matrix = sess.run(normalized_embeddings)\n",
    "\n",
    "ref_word = normalized_embeddings_matrix[word2index_map[\"one\"]]\n",
    "\n",
    "cosine_dists = np.dot(normalized_embeddings_matrix, ref_word)\n",
    "ff = np.argsort(cosine_dists)[::-1][1:10]\n",
    "for f in ff:\n",
    "    print(index2word_map[f])\n",
    "    print(cosine_dists[f])"
   ]
  },
  {
   "cell_type": "code",
   "execution_count": null,
   "metadata": {},
   "outputs": [],
   "source": []
  }
 ],
 "metadata": {
  "kernelspec": {
   "display_name": "Python 3",
   "language": "python",
   "name": "python3"
  },
  "language_info": {
   "codemirror_mode": {
    "name": "ipython",
    "version": 3
   },
   "file_extension": ".py",
   "mimetype": "text/x-python",
   "name": "python",
   "nbconvert_exporter": "python",
   "pygments_lexer": "ipython3",
   "version": "3.6.7"
  }
 },
 "nbformat": 4,
 "nbformat_minor": 2
}
