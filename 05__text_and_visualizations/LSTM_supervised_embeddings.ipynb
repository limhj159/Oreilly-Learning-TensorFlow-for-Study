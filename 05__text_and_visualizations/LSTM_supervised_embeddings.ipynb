{
 "cells": [
  {
   "cell_type": "code",
   "execution_count": 6,
   "metadata": {},
   "outputs": [],
   "source": [
    "import numpy as np\n",
    "import tensorflow as tf\n",
    "# Mac OS Error: https://github.com/dmlc/xgboost/issues/1715\n",
    "import os\n",
    "os.environ['KMP_DUPLICATE_LIB_OK']='True'\n",
    "\n",
    "batch_size = 128\n",
    "embedding_dimension = 64\n",
    "num_classes = 2\n",
    "hidden_layer_size = 32\n",
    "times_steps = 6\n",
    "element_size = 1\n",
    "\n",
    "digit_to_word_map = {1: \"One\", 2: \"Two\", 3: \"Three\", 4: \"Four\", 5: \"Five\",\n",
    "                     6: \"Six\", 7: \"Seven\", 8: \"Eight\", 9: \"Nine\"}\n",
    "digit_to_word_map[0] = \"PAD\""
   ]
  },
  {
   "cell_type": "code",
   "execution_count": 7,
   "metadata": {},
   "outputs": [],
   "source": [
    "even_sentences = []\n",
    "odd_sentences = []\n",
    "seqlens = []\n",
    "for i in range(10000):\n",
    "    rand_seq_len = np.random.choice(range(3, 7))\n",
    "    seqlens.append(rand_seq_len)\n",
    "    rand_odd_ints = np.random.choice(range(1, 10, 2),\n",
    "                                     rand_seq_len)\n",
    "    rand_even_ints = np.random.choice(range(2, 10, 2),\n",
    "                                      rand_seq_len)\n",
    "\n",
    "    if rand_seq_len < 6:\n",
    "        rand_odd_ints = np.append(rand_odd_ints,\n",
    "                                  [0]*(6-rand_seq_len))\n",
    "        rand_even_ints = np.append(rand_even_ints,\n",
    "                                   [0]*(6-rand_seq_len))\n",
    "\n",
    "    even_sentences.append(\" \".join([digit_to_word_map[r] for r in rand_odd_ints]))\n",
    "    odd_sentences.append(\" \".join([digit_to_word_map[r] for r in rand_even_ints]))\n",
    "\n",
    "data = even_sentences+odd_sentences\n",
    "seqlens *= 2"
   ]
  },
  {
   "cell_type": "code",
   "execution_count": 8,
   "metadata": {},
   "outputs": [],
   "source": [
    "labels = [1] * 10000 + [0] * 10000\n",
    "for i in range(len(labels)):\n",
    "    label = labels[i]\n",
    "    one_hot_encoding = [0]*2\n",
    "    one_hot_encoding[label] = 1\n",
    "    labels[i] = one_hot_encoding\n",
    "\n",
    "word2index_map = {}\n",
    "index = 0\n",
    "for sent in data:\n",
    "    for word in sent.lower().split():\n",
    "        if word not in word2index_map:\n",
    "            word2index_map[word] = index\n",
    "            index += 1\n",
    "\n",
    "index2word_map = {index: word for word, index in word2index_map.items()}\n",
    "vocabulary_size = len(index2word_map)\n",
    "\n",
    "# Shuffle our data\n",
    "data_indices = list(range(len(data)))\n",
    "np.random.shuffle(data_indices)\n",
    "data = np.array(data)[data_indices]\n",
    "\n",
    "labels = np.array(labels)[data_indices]\n",
    "seqlens = np.array(seqlens)[data_indices]\n",
    "train_x = data[:10000]\n",
    "train_y = labels[:10000]\n",
    "train_seqlens = seqlens[:10000]\n",
    "\n",
    "test_x = data[10000:]\n",
    "test_y = labels[10000:]\n",
    "test_seqlens = seqlens[10000:]"
   ]
  },
  {
   "cell_type": "code",
   "execution_count": 9,
   "metadata": {},
   "outputs": [
    {
     "data": {
      "text/plain": [
       "'Six Four Two Six PAD PAD'"
      ]
     },
     "execution_count": 9,
     "metadata": {},
     "output_type": "execute_result"
    }
   ],
   "source": [
    "train_x[0]"
   ]
  },
  {
   "cell_type": "code",
   "execution_count": 10,
   "metadata": {},
   "outputs": [],
   "source": [
    "def get_sentence_batch(batch_size, data_x,\n",
    "                       data_y, data_seqlens):\n",
    "    instance_indices = list(range(len(data_x)))\n",
    "    np.random.shuffle(instance_indices) # 랜덤으로 배치 데이터를 추출?\n",
    "    batch = instance_indices[:batch_size]\n",
    "    x = [[word2index_map[word] for word in data_x[i].lower().split()]\n",
    "         for i in batch]\n",
    "    y = [data_y[i] for i in batch]\n",
    "    seqlens = [data_seqlens[i] for i in batch]\n",
    "    return x, y, seqlens"
   ]
  },
  {
   "cell_type": "code",
   "execution_count": 12,
   "metadata": {},
   "outputs": [
    {
     "name": "stdout",
     "output_type": "stream",
     "text": [
      "(128, 6, 64)\n",
      "(128, 64)\n",
      "Tensor(\"lstm_1/strided_slice:0\", shape=(128, 32), dtype=float32)\n",
      "Tensor(\"lstm_1/rnn/while/Exit_4:0\", shape=(128, 32), dtype=float32)\n"
     ]
    }
   ],
   "source": [
    "_inputs = tf.placeholder(tf.int32, shape=[batch_size, times_steps])\n",
    "_labels = tf.placeholder(tf.float32, shape=[batch_size, num_classes])\n",
    "# seqlens for dynamic calculation\n",
    "_seqlens = tf.placeholder(tf.int32, shape=[batch_size])\n",
    "\n",
    "with tf.name_scope(\"embeddings\"):\n",
    "    embeddings = tf.Variable(\n",
    "        tf.random_uniform([vocabulary_size,\n",
    "                           embedding_dimension],\n",
    "                          -1.0, 1.0), name='embedding')\n",
    "    embed = tf.nn.embedding_lookup(embeddings, _inputs)\n",
    "    print(embed.shape)\n",
    "    a = tf.unstack(embed, axis=1)\n",
    "    print(a[0].shape)\n",
    "    \n",
    "\n",
    "\n",
    "with tf.variable_scope(\"lstm\", reuse=tf.AUTO_REUSE):\n",
    "\n",
    "    lstm_cell = tf.contrib.rnn.BasicLSTMCell(hidden_layer_size,\n",
    "                                             forget_bias=1.0)\n",
    "    outputs, states = tf.nn.dynamic_rnn(lstm_cell, embed,\n",
    "                                        sequence_length=_seqlens,\n",
    "                                        dtype=tf.float32)\n",
    "    print(outputs[:,-1,:])\n",
    "    print(states[1])\n",
    "\n",
    "weights = {\n",
    "    'linear_layer': tf.Variable(tf.truncated_normal([hidden_layer_size, num_classes],\n",
    "                                                    mean=0, stddev=.01))\n",
    "}\n",
    "biases = {\n",
    "    'linear_layer': tf.Variable(tf.truncated_normal([num_classes], mean=0, stddev=.01))\n",
    "}\n",
    "\n",
    "# extract the last relevant output and use in a linear layer\n",
    "final_output = tf.matmul(states[1],\n",
    "                         weights[\"linear_layer\"]) + biases[\"linear_layer\"]\n",
    "\n",
    "\n",
    "with tf.variable_scope(\"train\", reuse=tf.AUTO_REUSE):\n",
    "    softmax = tf.nn.softmax_cross_entropy_with_logits_v2(logits=final_output,\n",
    "                                                      labels=_labels)\n",
    "    cross_entropy = tf.reduce_mean(softmax)\n",
    "\n",
    "    train_step = tf.train.RMSPropOptimizer(0.001, 0.9).minimize(cross_entropy)\n",
    "    \n",
    "    \n",
    "correct_prediction = tf.equal(tf.argmax(_labels, 1),\n",
    "                              tf.argmax(final_output, 1))\n",
    "accuracy = (tf.reduce_mean(tf.cast(correct_prediction,\n",
    "                                   tf.float32)))*100\n"
   ]
  },
  {
   "cell_type": "markdown",
   "metadata": {},
   "source": [
    "#### Output vs states\n",
    "https://stats.stackexchange.com/questions/330176/what-is-the-output-of-a-tf-nn-dynamic-rnn"
   ]
  },
  {
   "cell_type": "code",
   "execution_count": 14,
   "metadata": {},
   "outputs": [
    {
     "name": "stdout",
     "output_type": "stream",
     "text": [
      "Accuracy at 0: 67.96875\n",
      "Accuracy at 100: 100.00000\n",
      "Accuracy at 200: 100.00000\n",
      "Test batch accuracy 0: 100.00000\n",
      "Test batch accuracy 1: 100.00000\n",
      "Test batch accuracy 2: 100.00000\n",
      "Test batch accuracy 3: 100.00000\n",
      "Test batch accuracy 4: 100.00000\n",
      "(128, 32)\n",
      "(128, 32)\n"
     ]
    }
   ],
   "source": [
    "with tf.Session() as sess:\n",
    "    sess.run(tf.global_variables_initializer())\n",
    "\n",
    "    for step in range(300):\n",
    "        x_batch, y_batch, seqlen_batch = get_sentence_batch(batch_size,\n",
    "                                                            train_x, train_y,\n",
    "                                                            train_seqlens)\n",
    "        sess.run(train_step, feed_dict={_inputs: x_batch, _labels: y_batch, _seqlens: seqlen_batch})\n",
    "\n",
    "        if step % 100 == 0:\n",
    "            _outputs, _states, acc = sess.run([outputs, states, accuracy], feed_dict={_inputs: x_batch, _labels: y_batch, _seqlens: seqlen_batch})\n",
    "            print(\"Accuracy at %d: %.5f\" % (step, acc))\n",
    "    \n",
    "    \n",
    "    _embeddings = sess.run(embeddings, feed_dict={_inputs: x_batch, _labels: y_batch, _seqlens: seqlen_batch})\n",
    "#     print(_embeddings.shape)\n",
    "#     print(_embeddings)\n",
    "    \n",
    "    for test_batch in range(5):\n",
    "        x_test, y_test, seqlen_test = get_sentence_batch(batch_size,\n",
    "                                                         test_x, test_y,\n",
    "                                                         test_seqlens)\n",
    "        batch_pred, batch_acc = sess.run([tf.argmax(final_output, 1), accuracy],\n",
    "                                         feed_dict={_inputs: x_test,\n",
    "                                                    _labels: y_test,\n",
    "                                                    _seqlens: seqlen_test})\n",
    "        print(\"Test batch accuracy %d: %.5f\" % (test_batch, batch_acc))\n",
    "\n",
    "    output_example = sess.run(outputs, feed_dict={_inputs: x_test,\n",
    "                                                    _labels: y_test,\n",
    "                                                    _seqlens: seqlen_test})\n",
    "    states_example = sess.run(states, feed_dict={_inputs: x_test,\n",
    "                                                      _labels: y_test,\n",
    "                                                      _seqlens: seqlen_test})\n",
    "#     print(seqlen_test[1])\n",
    "#     print(output_example[1].shape)\n",
    "#     print(output_example[1][:,:])\n",
    "    print(states_example[0].shape)\n",
    "    print(states_example[1].shape)\n",
    "    \n",
    "    \n",
    "    \n",
    "    "
   ]
  },
  {
   "cell_type": "code",
   "execution_count": null,
   "metadata": {},
   "outputs": [],
   "source": [
    "#\n",
    "# #CODE BLOCK FOR MULTIPLE LSTM\n",
    "# num_LSTM_layers = 2\n",
    "# with tf.variable_scope(\"lstm\"):\n",
    "#\n",
    "#     lstm_cell = tf.contrib.rnn.BasicLSTMCell(hidden_layer_size,\n",
    "#                                              forget_bias=1.0)\n",
    "#     cell = tf.contrib.rnn.MultiRNNCell(cells=[lstm_cell]*num_LSTM_layers,\n",
    "#                                        state_is_tuple=True)\n",
    "#     outputs, states = tf.nn.dynamic_rnn(cell, embed,\n",
    "#                                         sequence_length = _seqlens,\n",
    "#                                         dtype=tf.float32)\n",
    "#\n",
    "# #extract the final state and use in a linear layer\n",
    "# final_output = tf.matmul(states[num_LSTM_layers-1][1],\n",
    "#                          weights[\"linear_layer\"]) + biases[\"linear_layer\"]"
   ]
  }
 ],
 "metadata": {
  "kernelspec": {
   "display_name": "Python 3",
   "language": "python",
   "name": "python3"
  },
  "language_info": {
   "codemirror_mode": {
    "name": "ipython",
    "version": 3
   },
   "file_extension": ".py",
   "mimetype": "text/x-python",
   "name": "python",
   "nbconvert_exporter": "python",
   "pygments_lexer": "ipython3",
   "version": "3.6.7"
  }
 },
 "nbformat": 4,
 "nbformat_minor": 2
}
